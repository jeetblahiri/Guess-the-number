{
 "cells": [
  {
   "cell_type": "code",
   "execution_count": 14,
   "id": "5c7fbbea",
   "metadata": {},
   "outputs": [
    {
     "name": "stdout",
     "output_type": "stream",
     "text": [
      "Guess a number between 1 and 20: 6\n",
      "Sorry, guess again. Too high.\n",
      "Guess a number between 1 and 20: 4\n",
      "You have guessed the number 4 correctly in 2th try!\n"
     ]
    }
   ],
   "source": [
    "import random #Importing the python library used to generate random numbers\n",
    "\n",
    "def guessing(x):\n",
    "    k=0 #A variable that takes in the number of chances\n",
    "    random_no = random.randint(1, x) #Defining a range to make it possible to guess\n",
    "    guess = 0\n",
    "    while guess != random_no: #Condition to match user input with the guess\n",
    "        guess = int(input(f'Guess a number between 1 and {x}: '))\n",
    "        if guess < random_no:\n",
    "            print('Sorry, guess again. Too low.')\n",
    "        elif guess > random_no:\n",
    "            print('Sorry, guess again. Too high.')\n",
    "        k=k+1 #For every try, the guess gets counted\n",
    "\n",
    "    print(f'You have guessed the number {random_no} correctly in {k}th try!')\n",
    "\n",
    "guessing(20) #You can change this number as you wish."
   ]
  }
 ],
 "metadata": {
  "kernelspec": {
   "display_name": "Python 3 (ipykernel)",
   "language": "python",
   "name": "python3"
  },
  "language_info": {
   "codemirror_mode": {
    "name": "ipython",
    "version": 3
   },
   "file_extension": ".py",
   "mimetype": "text/x-python",
   "name": "python",
   "nbconvert_exporter": "python",
   "pygments_lexer": "ipython3",
   "version": "3.9.7"
  }
 },
 "nbformat": 4,
 "nbformat_minor": 5
}
